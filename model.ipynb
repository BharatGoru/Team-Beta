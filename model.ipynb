# step 1

import pandas as pd
import matplotlib.pyplot as plt

df = pd.read_csv("merged_file.csv") # your  IQ data file name


df.head()


df = df[["Question", "Option 1", "Option 2", "Option 3", "Option 4", "Correct Answer"]]
df.head()

df.info()

df['Question'].value_counts()

--------------------------------------------------------------

